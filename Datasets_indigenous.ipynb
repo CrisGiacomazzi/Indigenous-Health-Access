{
  "nbformat": 4,
  "nbformat_minor": 0,
  "metadata": {
    "colab": {
      "provenance": [],
      "authorship_tag": "ABX9TyOtB2stL1MQ4eDmIjeSpHZ0",
      "include_colab_link": true
    },
    "kernelspec": {
      "name": "python3",
      "display_name": "Python 3"
    },
    "language_info": {
      "name": "python"
    }
  },
  "cells": [
    {
      "cell_type": "markdown",
      "metadata": {
        "id": "view-in-github",
        "colab_type": "text"
      },
      "source": [
        "<a href=\"https://colab.research.google.com/github/CrisGiacomazzi/Indigenous-Health-Access/blob/main/Datasets_indigenous.ipynb\" target=\"_parent\"><img src=\"https://colab.research.google.com/assets/colab-badge.svg\" alt=\"Open In Colab\"/></a>"
      ]
    },
    {
      "cell_type": "code",
      "source": [
        "#DATASET 1\n",
        "\n",
        "import pandas as pd\n",
        "import numpy as np\n",
        "\n",
        "# Set random seed for reproducibility\n",
        "np.random.seed(42)\n",
        "\n",
        "# Number of observations\n",
        "n = 260\n",
        "\n",
        "# Column 1: Patient ID (random numbers between 001 and 260)\n",
        "patient_ids = [f\"{i:03}\" for i in range(1, n + 1)]\n",
        "\n",
        "# Column 2: Indigenous Community\n",
        "# First Nations: 5.8%, Métis: 3.5%, Inuit: 0.4%\n",
        "indigenous_communities = np.random.choice(\n",
        "    [\"First Nations\", \"Métis\", \"Inuit\"],\n",
        "    size=n,\n",
        "    p=[0.58, 0.35, 0.07]\n",
        ")\n",
        "\n",
        "# Adjust probabilities to ensure they sum to 1 (since 5.8% + 3.5% + 0.4% = 9.7%)\n",
        "# The remaining 90.3% will be distributed proportionally among the three groups\n",
        "adjusted_probs = [0.058 / 0.097, 0.035 / 0.097, 0.004 / 0.097]\n",
        "indigenous_communities = np.random.choice(\n",
        "    [\"First Nations\", \"Métis\", \"Inuit\"],\n",
        "    size=n,\n",
        "    p=adjusted_probs\n",
        ")\n",
        "\n",
        "# Column 3: HLQ Before (ordinal scale between 1 and 4)\n",
        "hlq_before = np.random.randint(1, 5, size=n)\n",
        "\n",
        "# Column 4: HLQ After (10% improvement compared to HLQ Before)\n",
        "# If the score is 4, it remains unchanged; otherwise, increase by 10%\n",
        "hlq_after = np.where(\n",
        "    hlq_before == 4,  # Condition: if score is 4\n",
        "    hlq_before,       # Keep the score as 4\n",
        "    hlq_before + 1    # Otherwise, increase by 1 (10% improvement on a 1-4 scale)\n",
        ")\n",
        "\n",
        "# Create DataFrame\n",
        "data = pd.DataFrame({\n",
        "    \"Patient ID\": patient_ids,\n",
        "    \"Indigenous Community\": indigenous_communities,\n",
        "    \"HLQ Before\": hlq_before,\n",
        "    \"HLQ After\": hlq_after\n",
        "})\n",
        "\n",
        "# Save to CSV\n",
        "data.to_csv(\"health_literacy_data.csv\", index=False)\n",
        "\n",
        "# Provide download link (if running in a notebook or web environment)\n",
        "from IPython.display import FileLink\n",
        "FileLink(\"health_literacy_data.csv\")"
      ],
      "metadata": {
        "colab": {
          "base_uri": "https://localhost:8080/",
          "height": 34
        },
        "id": "A4Ek8q6IcGOY",
        "outputId": "5688f47d-687d-4d10-dc08-40c61fe718e1"
      },
      "execution_count": 4,
      "outputs": [
        {
          "output_type": "execute_result",
          "data": {
            "text/plain": [
              "/content/health_literacy_data.csv"
            ],
            "text/html": [
              "<a href='health_literacy_data.csv' target='_blank'>health_literacy_data.csv</a><br>"
            ]
          },
          "metadata": {},
          "execution_count": 4
        }
      ]
    },
    {
      "cell_type": "code",
      "source": [
        "# DATASET 2\n",
        "\n",
        "# Set random seed for reproducibility\n",
        "np.random.seed(42)\n",
        "\n",
        "# Number of observations\n",
        "n = 260\n",
        "\n",
        "# Column 1: Patient ID (from 001 to 260)\n",
        "patient_ids = [f\"{i:03}\" for i in range(1, n + 1)]\n",
        "\n",
        "# Column 2: Racism_discrimination_before (15% yes)\n",
        "racism_before = np.random.choice(\n",
        "    [\"Yes\", \"No\"],\n",
        "    size=n,\n",
        "    p=[0.15, 0.85]\n",
        ")\n",
        "\n",
        "# Column 3: Racism_discrimination_after (5% yes)\n",
        "racism_after = np.random.choice(\n",
        "    [\"Yes\", \"No\"],\n",
        "    size=n,\n",
        "    p=[0.05, 0.95]\n",
        ")\n",
        "\n",
        "# Column 4: Cultural_healthcare_services_before (13% yes)\n",
        "cultural_before = np.random.choice(\n",
        "    [\"Yes\", \"No\"],\n",
        "    size=n,\n",
        "    p=[0.13, 0.87]\n",
        ")\n",
        "\n",
        "# Column 5: Cultural_healthcare_services_after (23% yes)\n",
        "cultural_after = np.random.choice(\n",
        "    [\"Yes\", \"No\"],\n",
        "    size=n,\n",
        "    p=[0.23, 0.77]\n",
        ")\n",
        "\n",
        "# Column 6: Traditional_methods_before (10% yes)\n",
        "traditional_before = np.random.choice(\n",
        "    [\"Yes\", \"No\"],\n",
        "    size=n,\n",
        "    p=[0.10, 0.90]\n",
        ")\n",
        "\n",
        "# Column 7: Traditional_methods_after (20% yes)\n",
        "traditional_after = np.random.choice(\n",
        "    [\"Yes\", \"No\"],\n",
        "    size=n,\n",
        "    p=[0.20, 0.80]\n",
        ")\n",
        "\n",
        "# Create DataFrame\n",
        "data = pd.DataFrame({\n",
        "    \"Patient ID\": patient_ids,\n",
        "    \"Racism_discrimination_before\": racism_before,\n",
        "    \"Racism_discrimination_after\": racism_after,\n",
        "    \"Cultural_healthcare_services_before\": cultural_before,\n",
        "    \"Cultural_healthcare_services_after\": cultural_after,\n",
        "    \"Traditional_methods_before\": traditional_before,\n",
        "    \"Traditional_methods_after\": traditional_after\n",
        "})\n",
        "\n",
        "# Save to Excel\n",
        "data.to_excel(\"health_literacy_dataset_2.xlsx\", index=False)\n",
        "\n",
        "# Provide download link (if running in a notebook or web environment)\n",
        "from IPython.display import FileLink\n",
        "FileLink(\"health_literacy_dataset_2.xlsx\")"
      ],
      "metadata": {
        "colab": {
          "base_uri": "https://localhost:8080/",
          "height": 34
        },
        "id": "eWelRjk3f8qS",
        "outputId": "794d5e57-a8db-45de-a279-47f02a562f7e"
      },
      "execution_count": 5,
      "outputs": [
        {
          "output_type": "execute_result",
          "data": {
            "text/plain": [
              "/content/health_literacy_dataset_2.xlsx"
            ],
            "text/html": [
              "<a href='health_literacy_dataset_2.xlsx' target='_blank'>health_literacy_dataset_2.xlsx</a><br>"
            ]
          },
          "metadata": {},
          "execution_count": 5
        }
      ]
    },
    {
      "cell_type": "code",
      "source": [
        "# DATASET 3\n",
        "# Set random seed for reproducibility\n",
        "np.random.seed(42)\n",
        "\n",
        "# Number of observations\n",
        "n = 260\n",
        "\n",
        "# Column 1: Patient ID (from 001 to 260)\n",
        "patient_ids = [f\"{i:03}\" for i in range(1, n + 1)]\n",
        "\n",
        "# Column 2: Number_Vis_ER_before (random values between 1 and 6, with a median of 4)\n",
        "# Using a triangular distribution to ensure a median of 4\n",
        "number_vis_er_before = np.round(np.random.triangular(left=1, mode=4, right=6, size=n)).astype(int)\n",
        "\n",
        "# Column 3: Number_Vis_ER_after (15% decrease from Number_Vis_ER_before)\n",
        "number_vis_er_after = np.round(number_vis_er_before * 0.85).astype(int)\n",
        "number_vis_er_after = np.clip(number_vis_er_after, 1, 6)  # Ensure values stay within 1-6\n",
        "\n",
        "# Column 4: Cost_ER_before (random between $386 and $1000)\n",
        "cost_er_before = np.round(np.random.uniform(386, 1000, size=n), 2)\n",
        "\n",
        "# Column 5: Cost_ER_after (20% decrease from Cost_ER_before)\n",
        "cost_er_after = np.round(cost_er_before * 0.80, 2)\n",
        "\n",
        "# Create DataFrame\n",
        "data = pd.DataFrame({\n",
        "    \"Patient ID\": patient_ids,\n",
        "    \"Number_Vis_ER_before\": number_vis_er_before,\n",
        "    \"Number_Vis_ER_after\": number_vis_er_after,\n",
        "    \"Cost_ER_before\": cost_er_before,\n",
        "    \"Cost_ER_after\": cost_er_after\n",
        "})\n",
        "\n",
        "# Convert DataFrame to JSON\n",
        "json_data = data.to_json(orient=\"records\", indent=4)\n",
        "\n",
        "# Save to JSON file\n",
        "with open(\"health_literacy_dataset_3.json\", \"w\") as f:\n",
        "    f.write(json_data)\n",
        "\n",
        "# Provide download link (if running in a notebook or web environment)\n",
        "from IPython.display import FileLink\n",
        "FileLink(\"health_literacy_dataset_3.json\")"
      ],
      "metadata": {
        "colab": {
          "base_uri": "https://localhost:8080/",
          "height": 34
        },
        "id": "DKLjc2GvjdEc",
        "outputId": "aa037723-39b9-49ac-c784-f4a2474a1efd"
      },
      "execution_count": 7,
      "outputs": [
        {
          "output_type": "execute_result",
          "data": {
            "text/plain": [
              "/content/health_literacy_dataset_3.json"
            ],
            "text/html": [
              "<a href='health_literacy_dataset_3.json' target='_blank'>health_literacy_dataset_3.json</a><br>"
            ]
          },
          "metadata": {},
          "execution_count": 7
        }
      ]
    }
  ]
}